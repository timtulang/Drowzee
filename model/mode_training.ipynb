{
 "cells": [
  {
   "cell_type": "code",
   "execution_count": 2,
   "id": "70f0fccd",
   "metadata": {},
   "outputs": [
    {
     "name": "stdout",
     "output_type": "stream",
     "text": [
      "rows,cols: (40, 1567)\n"
     ]
    },
    {
     "data": {
      "text/html": [
       "<div>\n",
       "<style scoped>\n",
       "    .dataframe tbody tr th:only-of-type {\n",
       "        vertical-align: middle;\n",
       "    }\n",
       "\n",
       "    .dataframe tbody tr th {\n",
       "        vertical-align: top;\n",
       "    }\n",
       "\n",
       "    .dataframe thead th {\n",
       "        text-align: right;\n",
       "    }\n",
       "</style>\n",
       "<table border=\"1\" class=\"dataframe\">\n",
       "  <thead>\n",
       "    <tr style=\"text-align: right;\">\n",
       "      <th></th>\n",
       "      <th>label</th>\n",
       "      <th>face_0_x</th>\n",
       "      <th>face_0_y</th>\n",
       "      <th>face_0_z</th>\n",
       "      <th>face_1_x</th>\n",
       "      <th>face_1_y</th>\n",
       "      <th>face_1_z</th>\n",
       "      <th>face_2_x</th>\n",
       "      <th>face_2_y</th>\n",
       "      <th>face_2_z</th>\n",
       "      <th>...</th>\n",
       "      <th>pose_30_z</th>\n",
       "      <th>pose_30_v</th>\n",
       "      <th>pose_31_x</th>\n",
       "      <th>pose_31_y</th>\n",
       "      <th>pose_31_z</th>\n",
       "      <th>pose_31_v</th>\n",
       "      <th>pose_32_x</th>\n",
       "      <th>pose_32_y</th>\n",
       "      <th>pose_32_z</th>\n",
       "      <th>pose_32_v</th>\n",
       "    </tr>\n",
       "  </thead>\n",
       "  <tbody>\n",
       "    <tr>\n",
       "      <th>0</th>\n",
       "      <td>0</td>\n",
       "      <td>-0.055945</td>\n",
       "      <td>0.265708</td>\n",
       "      <td>-0.037593</td>\n",
       "      <td>0.0</td>\n",
       "      <td>0.0</td>\n",
       "      <td>-0.077665</td>\n",
       "      <td>-0.026032</td>\n",
       "      <td>0.066378</td>\n",
       "      <td>-0.038437</td>\n",
       "      <td>...</td>\n",
       "      <td>1.230152</td>\n",
       "      <td>0.000044</td>\n",
       "      <td>-0.004757</td>\n",
       "      <td>13.493138</td>\n",
       "      <td>0.663363</td>\n",
       "      <td>0.000173</td>\n",
       "      <td>-1.105763</td>\n",
       "      <td>13.354993</td>\n",
       "      <td>0.265851</td>\n",
       "      <td>0.000181</td>\n",
       "    </tr>\n",
       "    <tr>\n",
       "      <th>1</th>\n",
       "      <td>0</td>\n",
       "      <td>-0.043054</td>\n",
       "      <td>0.257463</td>\n",
       "      <td>-0.038333</td>\n",
       "      <td>0.0</td>\n",
       "      <td>0.0</td>\n",
       "      <td>-0.077638</td>\n",
       "      <td>-0.025940</td>\n",
       "      <td>0.067166</td>\n",
       "      <td>-0.038718</td>\n",
       "      <td>...</td>\n",
       "      <td>1.298854</td>\n",
       "      <td>0.000025</td>\n",
       "      <td>0.147961</td>\n",
       "      <td>13.547196</td>\n",
       "      <td>0.531931</td>\n",
       "      <td>0.000101</td>\n",
       "      <td>-0.935223</td>\n",
       "      <td>13.410417</td>\n",
       "      <td>0.375619</td>\n",
       "      <td>0.000104</td>\n",
       "    </tr>\n",
       "    <tr>\n",
       "      <th>2</th>\n",
       "      <td>0</td>\n",
       "      <td>-0.044468</td>\n",
       "      <td>0.271348</td>\n",
       "      <td>-0.038424</td>\n",
       "      <td>0.0</td>\n",
       "      <td>0.0</td>\n",
       "      <td>-0.078128</td>\n",
       "      <td>-0.025861</td>\n",
       "      <td>0.066498</td>\n",
       "      <td>-0.038869</td>\n",
       "      <td>...</td>\n",
       "      <td>1.407479</td>\n",
       "      <td>0.000023</td>\n",
       "      <td>0.226200</td>\n",
       "      <td>13.554549</td>\n",
       "      <td>0.600615</td>\n",
       "      <td>0.000097</td>\n",
       "      <td>-0.897425</td>\n",
       "      <td>13.424186</td>\n",
       "      <td>0.515443</td>\n",
       "      <td>0.000101</td>\n",
       "    </tr>\n",
       "    <tr>\n",
       "      <th>3</th>\n",
       "      <td>0</td>\n",
       "      <td>-0.036648</td>\n",
       "      <td>0.263665</td>\n",
       "      <td>-0.037134</td>\n",
       "      <td>0.0</td>\n",
       "      <td>0.0</td>\n",
       "      <td>-0.078205</td>\n",
       "      <td>-0.025329</td>\n",
       "      <td>0.067124</td>\n",
       "      <td>-0.038388</td>\n",
       "      <td>...</td>\n",
       "      <td>1.878035</td>\n",
       "      <td>0.000021</td>\n",
       "      <td>0.147232</td>\n",
       "      <td>13.555276</td>\n",
       "      <td>0.688513</td>\n",
       "      <td>0.000091</td>\n",
       "      <td>-0.963557</td>\n",
       "      <td>13.446701</td>\n",
       "      <td>0.967534</td>\n",
       "      <td>0.000093</td>\n",
       "    </tr>\n",
       "    <tr>\n",
       "      <th>4</th>\n",
       "      <td>0</td>\n",
       "      <td>-0.055866</td>\n",
       "      <td>0.249767</td>\n",
       "      <td>-0.037165</td>\n",
       "      <td>0.0</td>\n",
       "      <td>0.0</td>\n",
       "      <td>-0.078036</td>\n",
       "      <td>-0.026659</td>\n",
       "      <td>0.063233</td>\n",
       "      <td>-0.038521</td>\n",
       "      <td>...</td>\n",
       "      <td>1.770774</td>\n",
       "      <td>0.000021</td>\n",
       "      <td>0.125505</td>\n",
       "      <td>13.488442</td>\n",
       "      <td>0.709922</td>\n",
       "      <td>0.000088</td>\n",
       "      <td>-0.971129</td>\n",
       "      <td>13.372814</td>\n",
       "      <td>0.771981</td>\n",
       "      <td>0.000092</td>\n",
       "    </tr>\n",
       "  </tbody>\n",
       "</table>\n",
       "<p>5 rows × 1567 columns</p>\n",
       "</div>"
      ],
      "text/plain": [
       "   label  face_0_x  face_0_y  face_0_z  face_1_x  face_1_y  face_1_z  \\\n",
       "0      0 -0.055945  0.265708 -0.037593       0.0       0.0 -0.077665   \n",
       "1      0 -0.043054  0.257463 -0.038333       0.0       0.0 -0.077638   \n",
       "2      0 -0.044468  0.271348 -0.038424       0.0       0.0 -0.078128   \n",
       "3      0 -0.036648  0.263665 -0.037134       0.0       0.0 -0.078205   \n",
       "4      0 -0.055866  0.249767 -0.037165       0.0       0.0 -0.078036   \n",
       "\n",
       "   face_2_x  face_2_y  face_2_z  ...  pose_30_z  pose_30_v  pose_31_x  \\\n",
       "0 -0.026032  0.066378 -0.038437  ...   1.230152   0.000044  -0.004757   \n",
       "1 -0.025940  0.067166 -0.038718  ...   1.298854   0.000025   0.147961   \n",
       "2 -0.025861  0.066498 -0.038869  ...   1.407479   0.000023   0.226200   \n",
       "3 -0.025329  0.067124 -0.038388  ...   1.878035   0.000021   0.147232   \n",
       "4 -0.026659  0.063233 -0.038521  ...   1.770774   0.000021   0.125505   \n",
       "\n",
       "   pose_31_y  pose_31_z  pose_31_v  pose_32_x  pose_32_y  pose_32_z  pose_32_v  \n",
       "0  13.493138   0.663363   0.000173  -1.105763  13.354993   0.265851   0.000181  \n",
       "1  13.547196   0.531931   0.000101  -0.935223  13.410417   0.375619   0.000104  \n",
       "2  13.554549   0.600615   0.000097  -0.897425  13.424186   0.515443   0.000101  \n",
       "3  13.555276   0.688513   0.000091  -0.963557  13.446701   0.967534   0.000093  \n",
       "4  13.488442   0.709922   0.000088  -0.971129  13.372814   0.771981   0.000092  \n",
       "\n",
       "[5 rows x 1567 columns]"
      ]
     },
     "execution_count": 2,
     "metadata": {},
     "output_type": "execute_result"
    }
   ],
   "source": [
    "import numpy as np\n",
    "import pandas as pd\n",
    "import os\n",
    "from sklearn.model_selection import train_test_split\n",
    "from sklearn.preprocessing import StandardScaler\n",
    "import tensorflow as tf\n",
    "from tensorflow.keras import layers, models\n",
    "import matplotlib.pyplot as plt\n",
    "\n",
    "CSV_FILE = 'landmarks.csv'\n",
    "assert os.path.exists(CSV_FILE), f\"CSV not found: {CSV_FILE}\"\n",
    "\n",
    "df = pd.read_csv(CSV_FILE)\n",
    "print('rows,cols:', df.shape)\n",
    "\n",
    "df.head()"
   ]
  },
  {
   "cell_type": "code",
   "execution_count": 3,
   "id": "b55c0f04-6155-43c4-90f0-81bb67dbd1b4",
   "metadata": {},
   "outputs": [
    {
     "name": "stdout",
     "output_type": "stream",
     "text": [
      "X shape raw: (40, 1566)\n",
      "[[ 0.14737955  1.8102282  -1.2084067  ...  0.82186157  1.2369373\n",
      "  -0.950876  ]\n",
      " [ 0.26657978  0.5586724  -0.17574625 ...  1.0870976   1.2846467\n",
      "   0.24278744]\n",
      " [-1.3025548   0.772099   -0.44404864 ...  0.3355316  -1.5838807\n",
      "   4.137683  ]\n",
      " ...\n",
      " [-0.7655692   0.3150655  -0.46396044 ...  1.1788912   0.6586177\n",
      "  -0.95122576]\n",
      " [-2.0696664  -0.1437988  -0.6729154  ...  0.30931047  1.340047\n",
      "  -0.19022992]\n",
      " [ 0.13468653  1.5114791   0.18029703 ...  0.36818495 -0.87653935\n",
      "  -1.1292373 ]]\n",
      "X_train shape: (34, 1566)\n",
      "X_test shape: (6, 1566)\n",
      "X_train shape (for Conv1D): (34, 1566, 1)\n"
     ]
    }
   ],
   "source": [
    "# drop rows with NaN (incomplete captures)\n",
    "df = df.dropna()\n",
    "\n",
    "label_col = 'label'\n",
    "\n",
    "X = df.drop(columns=label_col).values.astype('float32')\n",
    "y = df[label_col].values.astype('int')\n",
    "\n",
    "print('X shape raw:', X.shape)\n",
    "\n",
    "#shuffle split\n",
    "X_train, X_test, y_train, y_test = train_test_split(X, y, test_size=0.15, stratify=y, random_state=42)\n",
    "\n",
    "# normalize features (StandardScaler)\n",
    "scaler = StandardScaler()\n",
    "X_train = scaler.fit_transform(X_train)\n",
    "X_test = scaler.transform(X_test)\n",
    "\n",
    "print(X_train)\n",
    "\n",
    "print('X_train shape:', X_train.shape)\n",
    "print('X_test shape:', X_test.shape)\n",
    "\n",
    "# Conv1D expects shape (samples, steps, channels)\n",
    "# We'll treat features as \"time steps\" and channels=1\n",
    "X_train = X_train.reshape((X_train.shape[0], X_train.shape[1], 1))\n",
    "X_test = X_test.reshape((X_test.shape[0], X_test.shape[1], 1))\n",
    "\n",
    "print('X_train shape (for Conv1D):', X_train.shape)"
   ]
  },
  {
   "cell_type": "code",
   "execution_count": 4,
   "id": "b499501f-3b4c-4615-bec3-247f8b8f550b",
   "metadata": {},
   "outputs": [
    {
     "name": "stderr",
     "output_type": "stream",
     "text": [
      "2025-10-28 11:07:32.434930: E external/local_xla/xla/stream_executor/cuda/cuda_platform.cc:51] failed call to cuInit: INTERNAL: CUDA error: Failed call to cuInit: UNKNOWN ERROR (303)\n"
     ]
    },
    {
     "data": {
      "text/html": [
       "<pre style=\"white-space:pre;overflow-x:auto;line-height:normal;font-family:Menlo,'DejaVu Sans Mono',consolas,'Courier New',monospace\"><span style=\"font-weight: bold\">Model: \"sequential\"</span>\n",
       "</pre>\n"
      ],
      "text/plain": [
       "\u001b[1mModel: \"sequential\"\u001b[0m\n"
      ]
     },
     "metadata": {},
     "output_type": "display_data"
    },
    {
     "data": {
      "text/html": [
       "<pre style=\"white-space:pre;overflow-x:auto;line-height:normal;font-family:Menlo,'DejaVu Sans Mono',consolas,'Courier New',monospace\">┏━━━━━━━━━━━━━━━━━━━━━━━━━━━━━━━━━┳━━━━━━━━━━━━━━━━━━━━━━━━┳━━━━━━━━━━━━━━━┓\n",
       "┃<span style=\"font-weight: bold\"> Layer (type)                    </span>┃<span style=\"font-weight: bold\"> Output Shape           </span>┃<span style=\"font-weight: bold\">       Param # </span>┃\n",
       "┡━━━━━━━━━━━━━━━━━━━━━━━━━━━━━━━━━╇━━━━━━━━━━━━━━━━━━━━━━━━╇━━━━━━━━━━━━━━━┩\n",
       "│ conv1d (<span style=\"color: #0087ff; text-decoration-color: #0087ff\">Conv1D</span>)                 │ (<span style=\"color: #00d7ff; text-decoration-color: #00d7ff\">None</span>, <span style=\"color: #00af00; text-decoration-color: #00af00\">1564</span>, <span style=\"color: #00af00; text-decoration-color: #00af00\">64</span>)       │           <span style=\"color: #00af00; text-decoration-color: #00af00\">256</span> │\n",
       "├─────────────────────────────────┼────────────────────────┼───────────────┤\n",
       "│ batch_normalization             │ (<span style=\"color: #00d7ff; text-decoration-color: #00d7ff\">None</span>, <span style=\"color: #00af00; text-decoration-color: #00af00\">1564</span>, <span style=\"color: #00af00; text-decoration-color: #00af00\">64</span>)       │           <span style=\"color: #00af00; text-decoration-color: #00af00\">256</span> │\n",
       "│ (<span style=\"color: #0087ff; text-decoration-color: #0087ff\">BatchNormalization</span>)            │                        │               │\n",
       "├─────────────────────────────────┼────────────────────────┼───────────────┤\n",
       "│ conv1d_1 (<span style=\"color: #0087ff; text-decoration-color: #0087ff\">Conv1D</span>)               │ (<span style=\"color: #00d7ff; text-decoration-color: #00d7ff\">None</span>, <span style=\"color: #00af00; text-decoration-color: #00af00\">1562</span>, <span style=\"color: #00af00; text-decoration-color: #00af00\">128</span>)      │        <span style=\"color: #00af00; text-decoration-color: #00af00\">24,704</span> │\n",
       "├─────────────────────────────────┼────────────────────────┼───────────────┤\n",
       "│ batch_normalization_1           │ (<span style=\"color: #00d7ff; text-decoration-color: #00d7ff\">None</span>, <span style=\"color: #00af00; text-decoration-color: #00af00\">1562</span>, <span style=\"color: #00af00; text-decoration-color: #00af00\">128</span>)      │           <span style=\"color: #00af00; text-decoration-color: #00af00\">512</span> │\n",
       "│ (<span style=\"color: #0087ff; text-decoration-color: #0087ff\">BatchNormalization</span>)            │                        │               │\n",
       "├─────────────────────────────────┼────────────────────────┼───────────────┤\n",
       "│ global_average_pooling1d        │ (<span style=\"color: #00d7ff; text-decoration-color: #00d7ff\">None</span>, <span style=\"color: #00af00; text-decoration-color: #00af00\">128</span>)            │             <span style=\"color: #00af00; text-decoration-color: #00af00\">0</span> │\n",
       "│ (<span style=\"color: #0087ff; text-decoration-color: #0087ff\">GlobalAveragePooling1D</span>)        │                        │               │\n",
       "├─────────────────────────────────┼────────────────────────┼───────────────┤\n",
       "│ dropout (<span style=\"color: #0087ff; text-decoration-color: #0087ff\">Dropout</span>)               │ (<span style=\"color: #00d7ff; text-decoration-color: #00d7ff\">None</span>, <span style=\"color: #00af00; text-decoration-color: #00af00\">128</span>)            │             <span style=\"color: #00af00; text-decoration-color: #00af00\">0</span> │\n",
       "├─────────────────────────────────┼────────────────────────┼───────────────┤\n",
       "│ dense (<span style=\"color: #0087ff; text-decoration-color: #0087ff\">Dense</span>)                   │ (<span style=\"color: #00d7ff; text-decoration-color: #00d7ff\">None</span>, <span style=\"color: #00af00; text-decoration-color: #00af00\">64</span>)             │         <span style=\"color: #00af00; text-decoration-color: #00af00\">8,256</span> │\n",
       "├─────────────────────────────────┼────────────────────────┼───────────────┤\n",
       "│ dense_1 (<span style=\"color: #0087ff; text-decoration-color: #0087ff\">Dense</span>)                 │ (<span style=\"color: #00d7ff; text-decoration-color: #00d7ff\">None</span>, <span style=\"color: #00af00; text-decoration-color: #00af00\">1</span>)              │            <span style=\"color: #00af00; text-decoration-color: #00af00\">65</span> │\n",
       "└─────────────────────────────────┴────────────────────────┴───────────────┘\n",
       "</pre>\n"
      ],
      "text/plain": [
       "┏━━━━━━━━━━━━━━━━━━━━━━━━━━━━━━━━━┳━━━━━━━━━━━━━━━━━━━━━━━━┳━━━━━━━━━━━━━━━┓\n",
       "┃\u001b[1m \u001b[0m\u001b[1mLayer (type)                   \u001b[0m\u001b[1m \u001b[0m┃\u001b[1m \u001b[0m\u001b[1mOutput Shape          \u001b[0m\u001b[1m \u001b[0m┃\u001b[1m \u001b[0m\u001b[1m      Param #\u001b[0m\u001b[1m \u001b[0m┃\n",
       "┡━━━━━━━━━━━━━━━━━━━━━━━━━━━━━━━━━╇━━━━━━━━━━━━━━━━━━━━━━━━╇━━━━━━━━━━━━━━━┩\n",
       "│ conv1d (\u001b[38;5;33mConv1D\u001b[0m)                 │ (\u001b[38;5;45mNone\u001b[0m, \u001b[38;5;34m1564\u001b[0m, \u001b[38;5;34m64\u001b[0m)       │           \u001b[38;5;34m256\u001b[0m │\n",
       "├─────────────────────────────────┼────────────────────────┼───────────────┤\n",
       "│ batch_normalization             │ (\u001b[38;5;45mNone\u001b[0m, \u001b[38;5;34m1564\u001b[0m, \u001b[38;5;34m64\u001b[0m)       │           \u001b[38;5;34m256\u001b[0m │\n",
       "│ (\u001b[38;5;33mBatchNormalization\u001b[0m)            │                        │               │\n",
       "├─────────────────────────────────┼────────────────────────┼───────────────┤\n",
       "│ conv1d_1 (\u001b[38;5;33mConv1D\u001b[0m)               │ (\u001b[38;5;45mNone\u001b[0m, \u001b[38;5;34m1562\u001b[0m, \u001b[38;5;34m128\u001b[0m)      │        \u001b[38;5;34m24,704\u001b[0m │\n",
       "├─────────────────────────────────┼────────────────────────┼───────────────┤\n",
       "│ batch_normalization_1           │ (\u001b[38;5;45mNone\u001b[0m, \u001b[38;5;34m1562\u001b[0m, \u001b[38;5;34m128\u001b[0m)      │           \u001b[38;5;34m512\u001b[0m │\n",
       "│ (\u001b[38;5;33mBatchNormalization\u001b[0m)            │                        │               │\n",
       "├─────────────────────────────────┼────────────────────────┼───────────────┤\n",
       "│ global_average_pooling1d        │ (\u001b[38;5;45mNone\u001b[0m, \u001b[38;5;34m128\u001b[0m)            │             \u001b[38;5;34m0\u001b[0m │\n",
       "│ (\u001b[38;5;33mGlobalAveragePooling1D\u001b[0m)        │                        │               │\n",
       "├─────────────────────────────────┼────────────────────────┼───────────────┤\n",
       "│ dropout (\u001b[38;5;33mDropout\u001b[0m)               │ (\u001b[38;5;45mNone\u001b[0m, \u001b[38;5;34m128\u001b[0m)            │             \u001b[38;5;34m0\u001b[0m │\n",
       "├─────────────────────────────────┼────────────────────────┼───────────────┤\n",
       "│ dense (\u001b[38;5;33mDense\u001b[0m)                   │ (\u001b[38;5;45mNone\u001b[0m, \u001b[38;5;34m64\u001b[0m)             │         \u001b[38;5;34m8,256\u001b[0m │\n",
       "├─────────────────────────────────┼────────────────────────┼───────────────┤\n",
       "│ dense_1 (\u001b[38;5;33mDense\u001b[0m)                 │ (\u001b[38;5;45mNone\u001b[0m, \u001b[38;5;34m1\u001b[0m)              │            \u001b[38;5;34m65\u001b[0m │\n",
       "└─────────────────────────────────┴────────────────────────┴───────────────┘\n"
      ]
     },
     "metadata": {},
     "output_type": "display_data"
    },
    {
     "data": {
      "text/html": [
       "<pre style=\"white-space:pre;overflow-x:auto;line-height:normal;font-family:Menlo,'DejaVu Sans Mono',consolas,'Courier New',monospace\"><span style=\"font-weight: bold\"> Total params: </span><span style=\"color: #00af00; text-decoration-color: #00af00\">34,049</span> (133.00 KB)\n",
       "</pre>\n"
      ],
      "text/plain": [
       "\u001b[1m Total params: \u001b[0m\u001b[38;5;34m34,049\u001b[0m (133.00 KB)\n"
      ]
     },
     "metadata": {},
     "output_type": "display_data"
    },
    {
     "data": {
      "text/html": [
       "<pre style=\"white-space:pre;overflow-x:auto;line-height:normal;font-family:Menlo,'DejaVu Sans Mono',consolas,'Courier New',monospace\"><span style=\"font-weight: bold\"> Trainable params: </span><span style=\"color: #00af00; text-decoration-color: #00af00\">33,665</span> (131.50 KB)\n",
       "</pre>\n"
      ],
      "text/plain": [
       "\u001b[1m Trainable params: \u001b[0m\u001b[38;5;34m33,665\u001b[0m (131.50 KB)\n"
      ]
     },
     "metadata": {},
     "output_type": "display_data"
    },
    {
     "data": {
      "text/html": [
       "<pre style=\"white-space:pre;overflow-x:auto;line-height:normal;font-family:Menlo,'DejaVu Sans Mono',consolas,'Courier New',monospace\"><span style=\"font-weight: bold\"> Non-trainable params: </span><span style=\"color: #00af00; text-decoration-color: #00af00\">384</span> (1.50 KB)\n",
       "</pre>\n"
      ],
      "text/plain": [
       "\u001b[1m Non-trainable params: \u001b[0m\u001b[38;5;34m384\u001b[0m (1.50 KB)\n"
      ]
     },
     "metadata": {},
     "output_type": "display_data"
    }
   ],
   "source": [
    "def make_model(input_shape):\n",
    "    model = models.Sequential()\n",
    "    model.add(layers.Input(shape=input_shape))\n",
    "    model.add(layers.Conv1D(64, kernel_size=3, activation='relu'))\n",
    "    model.add(layers.BatchNormalization())\n",
    "    model.add(layers.Conv1D(128, kernel_size=3, activation='relu'))\n",
    "    model.add(layers.BatchNormalization())\n",
    "    model.add(layers.GlobalAveragePooling1D())\n",
    "    model.add(layers.Dropout(0.4))\n",
    "    model.add(layers.Dense(64, activation='relu'))\n",
    "    model.add(layers.Dense(1, activation='sigmoid'))\n",
    "\n",
    "    model.compile(optimizer='adam', loss='binary_crossentropy', metrics=['accuracy'])\n",
    "    return model\n",
    "\n",
    "model = make_model((X_train.shape[1], 1))\n",
    "model.summary()"
   ]
  },
  {
   "cell_type": "code",
   "execution_count": null,
   "id": "95e3fa3b-68de-4374-9872-984006c5e7ca",
   "metadata": {},
   "outputs": [],
   "source": [
    "callbacks = [\n",
    "    tf.keras.callbacks.EarlyStopping(monitor='val_loss', patience=8, restore_best_weights=True)\n",
    "]\n",
    "\n",
    "history = model.fit(X_train, y_train, validation_split=0.15, epochs=80, batch_size=32, callbacks=callbacks)\n",
    "\n",
    "# plot training\n",
    "plt.figure()\n",
    "plt.plot(history.history['loss'], label='train_loss')\n",
    "plt.plot(history.history['val_loss'], label='val_loss')\n",
    "plt.legend()\n",
    "plt.show()"
   ]
  },
  {
   "cell_type": "code",
   "execution_count": null,
   "id": "67d1f4e4-ad64-45a7-a94a-2cc3528f7435",
   "metadata": {},
   "outputs": [],
   "source": [
    "loss, acc = model.evaluate(X_test, y_test)\n",
    "print('test loss', loss, 'test acc', acc)\n",
    "\n",
    "model.save('drowsy_cnn_model.keras')\n",
    "\n",
    "# also save scaler\n",
    "import joblib\n",
    "joblib.dump(scaler, 'scaler.save')"
   ]
  }
 ],
 "metadata": {
  "kernelspec": {
   "display_name": "Python 3 (ipykernel)",
   "language": "python",
   "name": "python3"
  },
  "language_info": {
   "codemirror_mode": {
    "name": "ipython",
    "version": 3
   },
   "file_extension": ".py",
   "mimetype": "text/x-python",
   "name": "python",
   "nbconvert_exporter": "python",
   "pygments_lexer": "ipython3",
   "version": "3.11.13"
  }
 },
 "nbformat": 4,
 "nbformat_minor": 5
}
